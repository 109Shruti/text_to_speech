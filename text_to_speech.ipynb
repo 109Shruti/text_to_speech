{
  "nbformat": 4,
  "nbformat_minor": 0,
  "metadata": {
    "colab": {
      "provenance": [],
      "authorship_tag": "ABX9TyPP2Tu287Be9Ll+miTc9h86",
      "include_colab_link": true
    },
    "kernelspec": {
      "name": "python3",
      "display_name": "Python 3"
    },
    "language_info": {
      "name": "python"
    }
  },
  "cells": [
    {
      "cell_type": "markdown",
      "metadata": {
        "id": "view-in-github",
        "colab_type": "text"
      },
      "source": [
        "<a href=\"https://colab.research.google.com/github/109Shruti/text_to_speech/blob/main/text_to_speech.ipynb\" target=\"_parent\"><img src=\"https://colab.research.google.com/assets/colab-badge.svg\" alt=\"Open In Colab\"/></a>"
      ]
    },
    {
      "cell_type": "code",
      "execution_count": 7,
      "metadata": {
        "colab": {
          "base_uri": "https://localhost:8080/"
        },
        "id": "j4l933JQFifM",
        "outputId": "96ff197d-de3e-4ffe-f671-f64dd178bbe8"
      },
      "outputs": [
        {
          "output_type": "stream",
          "name": "stdout",
          "text": [
            "Requirement already satisfied: gTTs in /usr/local/lib/python3.10/dist-packages (2.5.1)\n",
            "Requirement already satisfied: requests<3,>=2.27 in /usr/local/lib/python3.10/dist-packages (from gTTs) (2.31.0)\n",
            "Requirement already satisfied: click<8.2,>=7.1 in /usr/local/lib/python3.10/dist-packages (from gTTs) (8.1.7)\n",
            "Requirement already satisfied: charset-normalizer<4,>=2 in /usr/local/lib/python3.10/dist-packages (from requests<3,>=2.27->gTTs) (3.3.2)\n",
            "Requirement already satisfied: idna<4,>=2.5 in /usr/local/lib/python3.10/dist-packages (from requests<3,>=2.27->gTTs) (3.7)\n",
            "Requirement already satisfied: urllib3<3,>=1.21.1 in /usr/local/lib/python3.10/dist-packages (from requests<3,>=2.27->gTTs) (2.0.7)\n",
            "Requirement already satisfied: certifi>=2017.4.17 in /usr/local/lib/python3.10/dist-packages (from requests<3,>=2.27->gTTs) (2024.6.2)\n"
          ]
        }
      ],
      "source": [
        "!pip install gTTs\n"
      ]
    },
    {
      "cell_type": "code",
      "source": [
        "from gtts import gTTS\n",
        "\n",
        "text_to_say = input(\"What do you want to say? \")\n",
        "language = \"pt\"\n",
        "gTTS_obj = gTTS(text=text_to_say, lang=language, slow=False)\n",
        "gTTS_obj.save(\"/content/gTTS.wav\")\n"
      ],
      "metadata": {
        "id": "sUo8DeiAI8RI",
        "colab": {
          "base_uri": "https://localhost:8080/"
        },
        "outputId": "944f7a35-a642-496f-ba52-abebe53346ba"
      },
      "execution_count": 8,
      "outputs": [
        {
          "name": "stdout",
          "output_type": "stream",
          "text": [
            "What do you want to say? hello\n"
          ]
        }
      ]
    },
    {
      "cell_type": "code",
      "source": [
        "# from IPython.display import Audio\n",
        "# Audio(\"/content/gTTs.wav\")\n",
        "from IPython.display import Audio\n",
        "\n",
        "audio_path = \"/content/gTTS.wav\"\n",
        "Audio(audio_path)\n"
      ],
      "metadata": {
        "colab": {
          "base_uri": "https://localhost:8080/",
          "height": 76
        },
        "id": "VyyvW2nCKT2t",
        "outputId": "99adc38f-ea89-40b5-ec4f-66af16a75e38"
      },
      "execution_count": 9,
      "outputs": [
        {
          "output_type": "execute_result",
          "data": {
            "text/plain": [
              "<IPython.lib.display.Audio object>"
            ],
            "text/html": [
              "\n",
              "                <audio  controls=\"controls\" >\n",
              "                    <source src=\"data:audio/x-wav;base64,//OExAAAAAAAAAAAAAAAAAAAAAAAAAAAAAAAAAAAAAAAAAAAAAAAAAAAAAAAAAAAAAAAAAAAAAAAAAAAAAAAAAAAAAAAAAAAAAAAAAAAAAAAAAAAAAAAAAAAAAAAAAAAAAAAAAAAAAAAAAAAAAAAAAAAAAAAAAAAAAAAAAAAAAAAAAAAAAAAAAAAAAAAAAAAAAAAAAAAAAAAAAAAAAAAAAAAAAAAAAAAAAAAAAAAAAAAAAAAAAAAAAAAAAAAAAAA//OExAAn8i3YAU8wAQVYmaPUhbB6B6CCEIFzIWXM61Gr1er1ehiGKxWKxWKxWMgWTJkyZMmTJkCBAgQIECBAmTJp3Z5MmQIECCEREXdkyZO7uIiIiDECZO7v+7ggQIECCEZ/+93ZMgQQjP/F3Z5MmTvf//4iCZNOw/8AAAAAAPDw8PDAAAAAAPD3/EAAAAM//zDAAAd4eHh4e/wD//MPjhgAZ//HDw///8A8PD2Gum+dG0UEMszwW/fM0AFi7tJE//OExBMsLDowAZpoAPNoYI4Q7GHVA8x2DAFIVhl+HPL5uaCIMxMBzfWbjwZMTQZBAPGv6CDG7sMRRTMTMZ/5pQN3Y0EHIRfTKiaUP+g1BAly+7nT5AJxKGxMIZt//kohmBoXzM3QKZ0xICzY2NSWJMwKf//oU+ggS6et00ymVJpM5LE4uGZ885MLo8////dNP009VPQ+PY8opE81JhNLETI6iUkjE0Mz6Cj6Cx02UmKWG4m5cAXrFerSwBSWnEoX//OExBUsQxpMAdhgAXJLT08rnJc+mc0lh269evBoIAkAMFbRUJhIeeNI2bEgGh4bpBELoHz4mEgmJCQIh4lf1CLHPnBIMKpiZFet3GIm4+5+iznGMdWQvdY8VnjphU4dKnLHL1graZqZwPt+xTpzZmbU2dn+vs9MzSZ3tmdnOnd2Z/5/p7f3epOUnZ7Zp1Flc+C9ZvXf+n62B//fZ3dd6tWc6aJd2Vl85wD0jcBoRU45qy/dxOfVeiBvVTtK5Y7N//OExBcowjpwAGPYuWc5xsa4QxgcLPX0OWdlXiaHWrnBILbEyq9jZ1pgX3DT+AyKN+vK1/dRzYSlZCGzZLtBEcOVOL769f7FX5Y5hz2JhODxtvHWz/TTXzhxYSEWu31WcDgevY/8nb3Xnt+b+xzD//+n/v9d3//+rf+qdF08+sHYa6Pn93+eYe/MfnUAEfIQNiICfAhxBHgbFIVqXUsZdJRuvvwnFagts5wUYtqeMjrR2B23Kx/VuhwmNkUpPzzP//OExCcvK/qEAHvW3aN1C2478rTGoV54hjocCSRidZ3FtMovheF0xM21UiH57TPV0wqIu7msp9nezut5m3jcu9SUmwUExh8mLFIOzElwVoB7H81D5Ju42DwTRDPEofTwJkQ1W2Stt3Ld8Mj2R/z1J+++It1M75v3vmPn9kdv72Pt3G+3y+5mOH/d9891VQc3HJ6tj+pZr7+J5e+DjGG1Tdt23SoFwZvR3fenl74x4Ed64OD+eO9a6HMo4DyjbLAl//OExB0ss/aMAHvQ3YkKHCQ2LlbjsasZjnyo1w4MhRw5ES2oYvqguZuniaZTmSoDiUztKIlPl8MvDM21cnCE5xHynvf+trZfx3FLEIasiFh6HYULcOAgFChonAUNBoEgclniAGXHjhQp2PpG54r5vm/W+3qEiYiaio46iu/7/2Vp4ar/047ru2qp5it5++4+9LInruruU7l53qZiBptUtH9ZnZmOZVnhMcwV97qX5uNwbYnJGixty2oWbyLUpPne//OExB0kSfqYAMJYmMm9ajEwywSxhbRNrUmGGARPE0+J47kwA4llUqHBVP1iCWYzxcfiQtYjgys1+2fM7s2+careBt2K55jftQmrZiePRLHqu1q64NBRZ1zRY5Ud4cqEwjZFG+tKVYs5hsYqopLm2U9QwYsIOQkQmDimpQ4UlhcRqp+pzGsYWp1wPW6VLdh02rjcAZxOS+VFEWBwktAjKz/X1Akia1JtX2eRKQZJ4UXSviT3nfKFCy7lzULenpMo//OExD4m4wqYAMvOuXq9pYROSB2JICQmB8IQWlThqo+yKbPPUxd2IMcp5rCQNiIPCpMcNGgmIoSOIGMY7HnkkRavp//+n+67t7//WtTFUdPJlo/H/y0LtY3/1f/j8vHogNuk4HJYE//f/VqUbo+XFgz3aRonLKzwsOBF4r2KUyCzQooGmqM+tnIxbW+cLzr+1nSu1msFhWVp9bEN6g3jClWo1AbkZXPmNSm63ajws4JEq3rK91pngWNY00S2d1Ls//OExFUmK5qYANPOvU1ZEGovdYjCWAwVi48HwOhScJCnCkiaPnGpNQ5kf/////ami0b6fX1rTNv/p90ttSz0djxoX3B4M31PBnMWdrv7f9hdduav3Jvhs8UpdP2oinoYXCHPBzf51c8k1Yre3zGIQuvf/+sTx/93HSYrjhr5trsavZczJGJYTlPSzZnC0nE9iwVcDhO9lzFpHHPW0BmfC7qe+NyzN3x8WmjYvS0No1PidtTqCU10hFLsn4c266bg//OExG8mSdaUAN4emGXwf7fpzd78qLlgk4e5zugfEDzkXL+1j1IADAVED7gKGAuZUBwuv3tHCyqOtDrVZoqAJm02JB9iWw8tsErRwh2lUhsK7cEKODXvR8F2qNfyn6TeP/+KeXv3vBJUJut59xWUIVxa1YtzCmS56+8spmsnXa/e25L8nr1a/jMOvly59Wlt/zuUald/P9X9v/lXwqQ04dNT3NQ1Lrt/p1TEU//o1YNsFQDTSvoAZIQl3GW/QtDA//OExIgmcc6UANvwlNFAQHpGBQwaHNAYRUAXoPasWmzN9jalK0jDoIICsaaWsBJRg+ViIhDlPz0nhJEU39bNaqZlXLH5lWyQZfr1khz3vs1oxPoMM4q7xlzIWuS+9n+4zJ7Ha2ojBjX7/0tuCk87+es69LTE7akh71kJA1GYwbqqkQrgERXIDSxxo+Hi1nfov/7fXXT85X9Wb2PtZLbI6OYqZGqvX2//ol1KO5pKSIkLpQwXWPsFtSroyoYtSnKV//OExKEm45qUAN4UvLSDFVQIdH7l8MNkJRM0jRCAOIT2FiAhL7Hb/ctOMCkw9V1ldgpPCpnbzdso6LTwi1+IuSw2GO//65P9/XZTLZ/n/lTO9JuY2pt/YYwx5jSgMAbvujpoJGFKmURHC5yIEQYIkLVKt1VP//7///V9e55CNZDvMZ1bco4YcWGlIcRMAWSr3+mcAglUOxjik79Toz79d//r+2ktfv4Q0u0x09CQVk8pTSlqMxq3YHS0ZppTk9Ji//OExLgmuyKUAN4KvTLTalWeh9aBvwP/QOhRTIiAJtqKmtPrCEvggaX/rdTCHbOX8/tNnrfN51sMN3MqKHdbxryZwHnpLGPmOce9kU31Q3VCg0LoxxyiKYj9///9H+37f//ac6JqadvyWOFDwqWNNUy5FDkSjsxqqhNtDR3Mcw4uZfV8ni+y5ioyMBAZmz5vGygGiUwnZzFgJaY1htgCFRGFTfrZAAOTnYY9cvQfMJgBZ0rpY6FhhsOBwhLS5U7S//OExNAma5qIAN5OvbdJSQYhFKZm9KHQZbjZ/CpOy633X61nz7mFJZyz3lhYu2cM56GJKptIp6CZuNz8atYb3X1l/c+4b56nQQ4CEAgAOcUcWMzDgytbT/7ob6P3u7VS3+lXPVitu/sWzMQVFEU51RSoUcKxkqhiqxXR1NEl3M7M2iLpWZjWKOjQbM3Vf1rbbO20gqDkzg7DCYBZ+xgLBMqhI1UfDn5kAoFXQ3N4FM1qVH3kd4x6T9qQ2KxlNKRs//OExOktS+p4AOaE3U0ZDVxaOnh/Bi7q1p+frxuev/+Gru8d550FfHXbfLVbUxYoofgSmjVJD7M2CwE/1jHVXf83U3vHDH+2FHiBQHg6IHQSlE7FB4wcnc6lf9fczuiU/evp3RO739q1RrMitUwqaYNiu48uk45E+6bMx9T0syHdp1WmFJTnTuJnsabaCSQGGMjMeiK5ahMdDkCQeAg4fFUBj8OKMugsoCBIv841l4kBBcg8xdAamY+iyDADkJq1//OExOYrq950AOZO3WSS6CmWKdMGo8KeG4hD2eetW7Nm7v/3zDCkpd9/9/lhT09+GbDlTVJQySkzPcwqp43Jn6IxjHFBHHyQAQiiUcLzLGECAwcr///TdK6rTv5/58xlq13e676dGOGhBlms5cwionZBwSFGjKyvqueqMhfUfG5gGeIEKQ28rflLCoLsfk6HwMEk1ZgM0kBMwQAAaAMwDDggO809xgzRC4BA7KnHMDAkDhaX21tjA4Cp4U57H4k5//OExOos+55wAOaOvV1y4VVmxIOA5UzB7eEQqHqWXPGhuyWz8vsQRD09TXZXLKa/cvP5Vpb2FeSc5jZfyU44VX0bipUyd9JegnhyZfaGrz6RmY7Xn6W59nOSQ6ZUJgcAAA3ZJxPCsjLoEM9Oy5ZK0vn+mZpszubPZN/u5FTrWzu+ezJmc7aVzPeHpbp4su9Hu17pyjziutysWzomHR0Ip85hxdYhNF8wLg8wEkrmBwfUXGbL0KzqQ07DtqKVBVWl//OExOk/q/JkAO6Y3ILfH61xKshUwqXYjiqZdKE9TYBDi0JBlj1XEkAo1AAFCgMEBWokBAwtO05yFswaAF2IQh6YNhs1OWsMcUwdFMTApwwa546XNwLXjCd2EeBIFFu3JQ1C7zlx/HWx3qpZx5/aktx39Shpd6pKTfMcn0emXW61lsCwshvfcf+K8xlcjovz7yfluEdJWSc+3CAjCcGSrtyJ9mUMWLpnhb9P//r//P/z77p8/4z9/4//19/7xu9I//OExJ04i/J0AO6e3Rl9Hq8rfe8U1jOKWriy4YFiysfMCjiQtN8sCBGfUReFerWSE4QoixelYMstMVzE8Wedjh5i5X9xa07x5ua8CDJFti2Ik1VMiAYlKSzxoeG5gGCBgoBhbUwIBkyNiU14BEBAMu1/jAIDhZFHMlUhL7mCA9rDxue6VYZQ7l+VvokCl2Pai+HNv5fbav3DX03P1uvLf/Xyrn61Unfy+VsGw+pHQuBX7QXJQ/ikrl23UgXVfPPN//OExG05m/J4AO6e3M7fyhhgGgq1UzJAyxQtUZ+xHhere3unOvtn//5+Pn//4pv6vL/v+3//3/82+fpy1GhSQJfbESDj+PCzqkbCNeSSRDmvEhxYLt/rLO0w3zpQFsaWnDx4sQMQ53GN67244vmKrI0WsFvpiu7Pmt9CpOyx8PNQYlSAw70KeGXTL4DgQmLwtFQBRgA2Sg0EzGqBRkMwwEFM38GBQDCNllV0iEBzCcPhJy6KQD5wMHzAKGEFM0BC//OExDkzO+aAAO0a3TGIjWUhjzzqkybeVfLjcpotnDW8wGiYqQNgKgRojhLCYtBRSOymM0qYsRAgzplIQgFPKA2kqMMAxxKSVNzIgCZFa1izGUbOpW69//9b2q//99pseZTmd6kEUVqcpmI9TxqiPIvF2YqMjZJF0klIlwvJmxsYjLM0U1LRu6TIsitjFakDyknQTZSDpn0lJGBgZTrZ7oNWiL2IbCwUMuClUJZVgxCGjSkiDjcymHmsFUgExVge//OExB8sk+6IAOUa3W2jLlBSJGjFmBjQDfHgUCnJNhg9mWowHqyzMiXmbdzXmaHm/WRzPTI8aSBdLJTGkyE4TKLOXyHm6kVlQW5JBRKAdBSNjQ1E8GUuYjjOT61pKfb///U///6aRdRTZ2fWk2tSmMzAnk4ezooIszKTZGpFI4ck0ljNNM+gmbKvRWipNbOtW60K13WpS0nMzE3TNzqI5hUUDFmUzuiEqNfDWbA4aUuEYwej2oAoZjUHGUrocOxb//OExB8su+qEAN0a3TggwsXEkkjh0GARXANMR+LZMCmhkY3ZZwVsbbkVdroH16zXy03M+ofaNNjEW43coENGSPrWskjagmTiVZ0cgizmI4iMBIiYomJOJE0Nj5sJw6Sdatvq///ev//mSK0kFrb+ZIo6yUMjakeSbMHeo7qc6XjJzAuEuYmidzVk1Oi1SCaVZxFuytkzFpgm5skkS4FyfLgQB8hfeMAkRN3CE1wgkDgkEqZrf8BgdTR+UtgFCMXy//OExB8mu+6EANya3ep7gVZJgwcJPCngnwFhGQLx4jQ5p5JTjhVyHG3MH9HoI91NqPJOxmMwOJ2k22kXzz8rIpSmRIzqHcKgnJs6iUHM6zo5CkYLWtS////////enQS7e62QdJFlKUltfq7TrOmmskkzqaZqyl0fSe6antTQbWyatB1LUZmhLskWDzm37xgEvgIrQMh8LA0MFJ2Q2iQpkcaMFC4BDOCqqjZgkWmJQ0rGThDgyIBw4thcIkWifIik//OExDclc6qEAOSK3MXC7dSB011O2gttf00dOupE3RNlMbnlMpFFkGdklIGR0uGBSRcOyOzujDxUe4odDf///////7L3zzHsZXRnsdG7bKl5CIKKcEGFM6s/zbdkbF2QROhwEYKhUmIirOutMCAVX8RakYoIZWJ2rAkBF9jSs1M9BtgS2TDZfNUkIIAzPUjDEJBFQQzeUJA8CelTl8mEtTTJcu5mXknoJo7O7rV7JKVeqtRsfTOFRSPpnKLIKSoZ//OExFQlg+qAAONE3NRWtSRdJqSLnPVSkcQGCk////////6KdSMjTsax0czuad0Vfp2R0LHBhxRjknVv2rte55WVqsR3SQztHNFkGFInKTE4yHgG90tMSqBCKHWVGOlUdbJiV7ISQaGvCSRENPBZRhoiMCcmzFwqx04jzGS97YhCqj+BCjfO6/e//8/P+v/Tf+Lb97VrVjcX0bFN11i2a53rG38HTExKSWpblZhqCwiOqX///////9qVSJ6IyqYZ//OExHEl++p4AOPK3DHGuaxV7Vpe5iGIJoGCAoEkDznW3XT/1shSNIZEZBsYpkmWS2iUMjKw9UolZABjLSZIgI34QCDUoHOLiwwQBwuAzDYeOvggHCLkTMyioIAatL/pphEDUcHoAxpRgHUnYjfxPjU+Sv5v+/vjnXQgnGE6z7zxUT9cuLGh7LAKnkQln/6//////+piswMzu5HRLEYgeYSQ7Nddb7GLSjzDFYgFve/mVu6WTDylYWUpXBCiDyj7//OExIwkk9pwAOIE3Ub2HwlUxaowaakv3lMEhE4CAg4Zw6YBDRwDmg4ro9kIMNJJg2CMkMWcGETWZKCpdZXDtq8N1lwxRlUEcQJ1yp52mvNwi2Zmq7jrd8TzzVRup5PaTa2O5fcXbW02OSkzJp1rGszsq3/7///////iArFIqXRqoqGgpplt6pta0qGQUVCKyOj2u1W69FV4U5IIwkUFzrZkVlbei7WugeowHE9gzWgCXJiWJAYAaChhCQpxGdwc//OExKwlVDpsAOLE3ES14RBGaRlkYcgAyFK4weJFuLorvHQLjLx84jOtNDOGtIb6fGInrmFjXrvevv1//xv7xnHh7tdqewb6h1r9bt751j2th/iTcTdWSZyKRrLIvujUt///X//uRCJFJzk5WOZHUeYSIfrTuy1nsURzKzVfsmm3VEXQeKsKCYsPDQ4ZJcTuFGTGgAmKNJBoxWDQKCzBr/N3EIMKhgEGmPcqauSBhkFgIsAwuhIZHhQ2EEg00GgC//OExMkno9JoAOvK3Po66AEvA7FmG1Fr/iBQUSDgCsLCiAopGjtBRpyIql0d4g6bSqAwwfGPpeV1sPRBjHZB78tRIWZFWc37t/1//9f/1V0OchnVmRFElRVIcqKb+islfodRVaq1i79et6cilKImGDQRzCQRFTHLqdmqXKjzUMLlMoQs46XmlRgRAy4zxg4AImB9NbS602zhCDPrPgMCkTodAgRQNRQjszIjpTIDIwMjckovU+BzEeZpkNxk8Ahh//OExN0nhDpgAVwoADCiYeBSDgha9GcTE0GRYQjC0FDCgCX6TFWKqtS9z0glMAwCIADAoAmAoBr2TRZEwZ/v/H9AAAiyBaBIohAtQjjSkTpS1lnP//860FlK9W/glUa5ICd52oi5KmLSv/uv/pQBTQlbU4aN0XUYDDLLo1VxlOUqdqZ//7+v7x5V0u1df+GI67N2Gm2cCW0tNKo1+6uVNWmuf/P///9ZxAGgG9D7IAnMjLVHVwepK1lLawEzt/pu//OExPJOm94gAZ7oAGn+f7WWVamhq5a+tb/f/v/////5+17P6+K6XomJG8srS/WUJAktpLqQUeUpdqItxa9DNaNRrHLcqh6h7EX9mb2t4ymtaF9WrTUCEC/QBBGReH3IpEpVCMUZ8wYQSGCX1RRbM12TxVuFyNS6GotymsSo3KWFLVBpi3jp48Iwxnd0Zr/ZqOnFvUSjD1WSV/PP39/8ZmyG23m+brX92pt5uojN2+Xfqomf7ZvDQ+N9/rt5rJ17//OExGon3DYAAdowAG3WtK6bxfiqx8/qGfd+33zb/po3vDbe//GvYmNrZfK/zfjdm7s208y9M1ff3fe0W+tv+Y3ZaiWkrlL2smNupaPsuQnO7HY+41jORSy0ROFExDTws1NphSjF+TooGKxQjgbMsswicXYai86vjGwWM/2si2PnJqMshqabmvcpJYktW5B9s+P1VM2WxbFgqP7eWXrUjjfpbFTv7z9rNrd2p3c/q23ej2qm/bP2uf/MlN69S+U+//OExH0ms1H0AMpMvTV6n5jb9zuj2QSanQ4RC+KhsCsaZPyMO9+vyKkudgpM4gSQkyWzN0jnchtqlSrJ4xLcJfalsZuXThJfIq+BdEVyRH5APMoAppd1hBLK1TeNnSkvMHoFo0XLH1DalqaLJ7WM9vnRxyBmyMJZydpsZ6yDqGUgc3iwdWXI1FE3K4LT89f6zwyYz3wRYZQxk1ft08yoYoeiLUL+G618Y60qXNiT1GNe53zKFfZQT0fYwn4LDqEC//OExJUlU+HwAMGG3eoQWGka3VeqlS+22dSPUX1ezEejdPLK1Ly2BBZgBT55yCeuGNwimUifDZj5lPs070VdTF59Si5Kho12y7Qsx0nQL9fqvKlsxB4KmxEGdqVwkSmhvL1vJWuj9sTU0R4eZ04RkEDlDVySpwksHIDd4NWTBrulrABlmnHimgdITkpaypYZiD4dgUGyo6HTPJq1j3ODxkmM7JHqNEo7lkO6eFI/0YhqWS9ZEluWZBavTE3QUtNo//OExLIllAnsAMmG3UE4YfaNaYBtQ/XmqL209024deu2sniJ+5hf05jU2Kc/IKwmizJshmOovvpkXTF9YQp5BzIwivWw5ejjHHH1JRlpO0OgpYFqQcpipqNSVeBtgsNyUiDaxwzKpa4WNH+NdY+3Disubk+X4Oo5QvpR8xB+W8dOma1qnuOLe6HVMaBClE1LqIdVXU1eWOO7KnKlE9KXyna83D0WHj5R0STJBwGnqY6WM1zCkkvBCUSDJXsYJl9H//OExM4lzBnoAMmG3ZfMcF03Qs1AElTEaPkIAlAjopG0QSUcD4kaS4eFg7eySesTPh0iS20m7npVukyZ56e1iZ7nvT7C0IeIldMQ7mS9L8X2L7bDds+7BhhBsa1oFEIeKPSikGkzXqmQZRnzaxDFFZl68O9S9p3z7p36eB5E8IEkIzSJZqUHOBui9yo2+W880MQZQ36KK2Ksl3r6erZIgEAgoKAiSSXnJNr0tZxxKkUYa9SSY96Ohtc0o4kOSJHN//OExOkrw9HgAMmM3YxRxxIKChxI36kccdWw0at3wiksoqUTTyNOnsoIImsY1lnuRCRxI5ok0SackvdyIdoit1IkxZrV4rZya1+3zYZmpJJIt9OOOBiSSspJIkSJU+NXolVFznZkiRxE3MaNr4998VJE6PzS8lFNmaOtel3ulGM2oMx5hCozagyc0C2WO26iKz9yacYdF4dyhmijWdWzKr+UaqmfDtnm4bj4draal9NRbnJNVJPMy0zPquzpdrIs//OExO0sjBnUAMGM3fhKLkkniQlU0JG1IEONcoKNgsJKWWElJMSPRckeRk2CW0xKqcjPo2fVVsy2m55O3JKSyi0al0WeCTtZK40jm4dm87Z85MvLV2etzzFS0JO2kSrURKWicejRp4ScfAUbFhRatIgQ7CRQVJxYSzlBJWlBRaLkS0XIlEqougAkdMX3RQT7U4XsxFlTcmxvo/8Un5y3hrPmSxMTMPVqxIwYWj1atMxMTEwNGw9X//9MpQ0bDpNX//OExO0tJDnUAMmM3F9XTCodCCEwhCGQWjpaSS7D2WkJYqVKLqTpNJNNSebko1V1f9XVXX9ytKrq6jJNJJeE82Kyd1dXJVY6dUXhubH//+6uquG5t1d1PNjJVJJOrkqsqcOLoG3NIVlU0k5KrEI0MjJRGw258a+SjJCRFRoaLqNwnC6SnDclFZNMQU1FMy4xMDCqqqqqqqqqqqqqqqqqqqqqqqqqqqqqqqqqqqqqqqqqqqqqqqqqqqqqqqqqqqqq//OExOstBDlQAMIS3Kqqqqqqqqqqqqqqqqqqqqqqqqqqqqqqqqqqqqqqqqqqqqqqqqqqqqqqqqqqqqqqqqqqqqqqqqqqqqqqqqqqqqqqqqqqqqqqqqqqqqqqqqqqqqqqqqqqqqqqqqqqqqqqqqqqqqqqqqqqqqqqqqqqqqqqqqqqqqqqqqqqqqqqqqqqqqqqqqqqqqqqqqqqqqqqqqqqqqqqqqqqqqqqqqqqqqqqqqqqqqqqqqqqqqqqqqqqqqqq\" type=\"audio/x-wav\" />\n",
              "                    Your browser does not support the audio element.\n",
              "                </audio>\n",
              "              "
            ]
          },
          "metadata": {},
          "execution_count": 9
        }
      ]
    }
  ]
}